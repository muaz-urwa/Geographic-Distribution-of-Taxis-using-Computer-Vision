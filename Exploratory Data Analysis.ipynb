{
 "cells": [
  {
   "cell_type": "code",
   "execution_count": 27,
   "metadata": {},
   "outputs": [],
   "source": [
    "import numpy as np\n",
    "import matplotlib.pyplot as plt\n",
    "import geopandas as gpd\n",
    "import shapely\n",
    "from fiona.crs import from_epsg\n",
    "from fiona.crs import from_epsg\n",
    "from PIL import Image\n",
    "from geopandas.tools import sjoin\n",
    "\n",
    "try:\n",
    "    from urllib import urlretrieve as urlretrieve\n",
    "except ImportError:\n",
    "    from urllib.request import urlretrieve as urlretrieve\n",
    "    \n",
    "%matplotlib inline"
   ]
  },
  {
   "cell_type": "code",
   "execution_count": 3,
   "metadata": {},
   "outputs": [],
   "source": [
    "nh_shp = gpd.read_file(\"nynta_18d/nynta.shp\")"
   ]
  },
  {
   "cell_type": "code",
   "execution_count": 4,
   "metadata": {},
   "outputs": [
    {
     "data": {
      "text/html": [
       "<div>\n",
       "<style scoped>\n",
       "    .dataframe tbody tr th:only-of-type {\n",
       "        vertical-align: middle;\n",
       "    }\n",
       "\n",
       "    .dataframe tbody tr th {\n",
       "        vertical-align: top;\n",
       "    }\n",
       "\n",
       "    .dataframe thead th {\n",
       "        text-align: right;\n",
       "    }\n",
       "</style>\n",
       "<table border=\"1\" class=\"dataframe\">\n",
       "  <thead>\n",
       "    <tr style=\"text-align: right;\">\n",
       "      <th></th>\n",
       "      <th>BoroCode</th>\n",
       "      <th>BoroName</th>\n",
       "      <th>CountyFIPS</th>\n",
       "      <th>NTACode</th>\n",
       "      <th>NTAName</th>\n",
       "      <th>Shape_Leng</th>\n",
       "      <th>Shape_Area</th>\n",
       "      <th>geometry</th>\n",
       "    </tr>\n",
       "  </thead>\n",
       "  <tbody>\n",
       "    <tr>\n",
       "      <th>0</th>\n",
       "      <td>3</td>\n",
       "      <td>Brooklyn</td>\n",
       "      <td>047</td>\n",
       "      <td>BK88</td>\n",
       "      <td>Borough Park</td>\n",
       "      <td>39247.228028</td>\n",
       "      <td>5.400502e+07</td>\n",
       "      <td>POLYGON ((990897.9000244141 169268.1207885742,...</td>\n",
       "    </tr>\n",
       "    <tr>\n",
       "      <th>1</th>\n",
       "      <td>4</td>\n",
       "      <td>Queens</td>\n",
       "      <td>081</td>\n",
       "      <td>QN51</td>\n",
       "      <td>Murray Hill</td>\n",
       "      <td>33266.904861</td>\n",
       "      <td>5.248828e+07</td>\n",
       "      <td>POLYGON ((1038593.459228516 221913.3550415039,...</td>\n",
       "    </tr>\n",
       "    <tr>\n",
       "      <th>2</th>\n",
       "      <td>4</td>\n",
       "      <td>Queens</td>\n",
       "      <td>081</td>\n",
       "      <td>QN27</td>\n",
       "      <td>East Elmhurst</td>\n",
       "      <td>19816.712318</td>\n",
       "      <td>1.972685e+07</td>\n",
       "      <td>POLYGON ((1022728.275024414 217530.8082275391,...</td>\n",
       "    </tr>\n",
       "    <tr>\n",
       "      <th>3</th>\n",
       "      <td>4</td>\n",
       "      <td>Queens</td>\n",
       "      <td>081</td>\n",
       "      <td>QN07</td>\n",
       "      <td>Hollis</td>\n",
       "      <td>20976.335574</td>\n",
       "      <td>2.288777e+07</td>\n",
       "      <td>POLYGON ((1051539.66003418 201007.0130004883, ...</td>\n",
       "    </tr>\n",
       "    <tr>\n",
       "      <th>4</th>\n",
       "      <td>1</td>\n",
       "      <td>Manhattan</td>\n",
       "      <td>061</td>\n",
       "      <td>MN06</td>\n",
       "      <td>Manhattanville</td>\n",
       "      <td>17040.685413</td>\n",
       "      <td>1.064708e+07</td>\n",
       "      <td>POLYGON ((999174.2606201172 238490.1047973633,...</td>\n",
       "    </tr>\n",
       "  </tbody>\n",
       "</table>\n",
       "</div>"
      ],
      "text/plain": [
       "   BoroCode   BoroName CountyFIPS NTACode         NTAName    Shape_Leng  \\\n",
       "0         3   Brooklyn        047    BK88    Borough Park  39247.228028   \n",
       "1         4     Queens        081    QN51     Murray Hill  33266.904861   \n",
       "2         4     Queens        081    QN27   East Elmhurst  19816.712318   \n",
       "3         4     Queens        081    QN07          Hollis  20976.335574   \n",
       "4         1  Manhattan        061    MN06  Manhattanville  17040.685413   \n",
       "\n",
       "     Shape_Area                                           geometry  \n",
       "0  5.400502e+07  POLYGON ((990897.9000244141 169268.1207885742,...  \n",
       "1  5.248828e+07  POLYGON ((1038593.459228516 221913.3550415039,...  \n",
       "2  1.972685e+07  POLYGON ((1022728.275024414 217530.8082275391,...  \n",
       "3  2.288777e+07  POLYGON ((1051539.66003418 201007.0130004883, ...  \n",
       "4  1.064708e+07  POLYGON ((999174.2606201172 238490.1047973633,...  "
      ]
     },
     "execution_count": 4,
     "metadata": {},
     "output_type": "execute_result"
    }
   ],
   "source": [
    "nh_shp.head()"
   ]
  },
  {
   "cell_type": "code",
   "execution_count": 6,
   "metadata": {},
   "outputs": [
    {
     "data": {
      "text/plain": [
       "['Bensonhurst East', 'Bensonhurst West']"
      ]
     },
     "execution_count": 6,
     "metadata": {},
     "output_type": "execute_result"
    }
   ],
   "source": [
    "[a for a in nh_shp.NTAName if 'Ben' in a]"
   ]
  },
  {
   "cell_type": "code",
   "execution_count": 7,
   "metadata": {},
   "outputs": [
    {
     "data": {
      "text/plain": [
       "{'proj': 'lcc',\n",
       " 'lat_1': 40.66666666666666,\n",
       " 'lat_2': 41.03333333333333,\n",
       " 'lat_0': 40.16666666666666,\n",
       " 'lon_0': -74,\n",
       " 'x_0': 300000,\n",
       " 'y_0': 0,\n",
       " 'datum': 'NAD83',\n",
       " 'units': 'us-ft',\n",
       " 'no_defs': True}"
      ]
     },
     "execution_count": 7,
     "metadata": {},
     "output_type": "execute_result"
    }
   ],
   "source": [
    "nh_shp.crs"
   ]
  },
  {
   "cell_type": "code",
   "execution_count": 22,
   "metadata": {},
   "outputs": [
    {
     "data": {
      "text/plain": [
       "<matplotlib.axes._subplots.AxesSubplot at 0x7f527ae7f978>"
      ]
     },
     "execution_count": 22,
     "metadata": {},
     "output_type": "execute_result"
    },
    {
     "data": {
      "image/png": "[encoded data removed]",
      "text/plain": [
       "<Figure size 432x288 with 1 Axes>"
      ]
     },
     "metadata": {
      "needs_background": "light"
     },
     "output_type": "display_data"
    }
   ],
   "source": [
    "nh_shp.plot()"
   ]
  },
  {
   "cell_type": "code",
   "execution_count": 110,
   "metadata": {},
   "outputs": [],
   "source": [
    "neighborhood = 'Manhattanville'"
   ]
  },
  {
   "cell_type": "code",
   "execution_count": 87,
   "metadata": {},
   "outputs": [
    {
     "data": {
      "text/plain": [
       "(1, 8)"
      ]
     },
     "execution_count": 87,
     "metadata": {},
     "output_type": "execute_result"
    }
   ],
   "source": [
    "neighbourhood_shp = nh_shp[nh_shp.NTAName == neighborhood]\n",
    "neighbourhood_shp.shape"
   ]
  },
  {
   "cell_type": "code",
   "execution_count": 11,
   "metadata": {},
   "outputs": [
    {
     "data": {
      "text/plain": [
       "('streets.gz', <http.client.HTTPMessage at 0x7f527c09f278>)"
      ]
     },
     "execution_count": 11,
     "metadata": {},
     "output_type": "execute_result"
    }
   ],
   "source": []
  },
  {
   "cell_type": "code",
   "execution_count": 12,
   "metadata": {},
   "outputs": [
    {
     "name": "stdout",
     "output_type": "stream",
     "text": [
      "Archive:  streets.gz\n",
      "  inflating: geo_export_fe7d31d3-42fd-4a0f-b268-d6e82470d6c0.dbf  \n",
      "  inflating: geo_export_fe7d31d3-42fd-4a0f-b268-d6e82470d6c0.shp  \n",
      "  inflating: geo_export_fe7d31d3-42fd-4a0f-b268-d6e82470d6c0.shx  \n",
      "  inflating: geo_export_fe7d31d3-42fd-4a0f-b268-d6e82470d6c0.prj  \n"
     ]
    }
   ],
   "source": [
    "!unzip streets.gz"
   ]
  },
  {
   "cell_type": "code",
   "execution_count": 13,
   "metadata": {},
   "outputs": [],
   "source": [
    "streets_shp = gpd.read_file(\"geo_export_fe7d31d3-42fd-4a0f-b268-d6e82470d6c0.shp\")"
   ]
  },
  {
   "cell_type": "code",
   "execution_count": 14,
   "metadata": {},
   "outputs": [
    {
     "data": {
      "text/plain": [
       "{}"
      ]
     },
     "execution_count": 14,
     "metadata": {},
     "output_type": "execute_result"
    }
   ],
   "source": [
    "streets_shp.crs"
   ]
  },
  {
   "cell_type": "code",
   "execution_count": 65,
   "metadata": {},
   "outputs": [
    {
     "data": {
      "text/html": [
       "<div>\n",
       "<style scoped>\n",
       "    .dataframe tbody tr th:only-of-type {\n",
       "        vertical-align: middle;\n",
       "    }\n",
       "\n",
       "    .dataframe tbody tr th {\n",
       "        vertical-align: top;\n",
       "    }\n",
       "\n",
       "    .dataframe thead th {\n",
       "        text-align: right;\n",
       "    }\n",
       "</style>\n",
       "<table border=\"1\" class=\"dataframe\">\n",
       "  <thead>\n",
       "    <tr style=\"text-align: right;\">\n",
       "      <th></th>\n",
       "      <th>bike_lane</th>\n",
       "      <th>bike_trafd</th>\n",
       "      <th>borocode</th>\n",
       "      <th>date_creat</th>\n",
       "      <th>time_creat</th>\n",
       "      <th>frm_lvl_co</th>\n",
       "      <th>full_stree</th>\n",
       "      <th>l_blkfc_id</th>\n",
       "      <th>l_high_hn</th>\n",
       "      <th>l_low_hn</th>\n",
       "      <th>...</th>\n",
       "      <th>rw_type</th>\n",
       "      <th>shape_leng</th>\n",
       "      <th>snow_pri</th>\n",
       "      <th>st_label</th>\n",
       "      <th>st_name</th>\n",
       "      <th>st_width</th>\n",
       "      <th>status</th>\n",
       "      <th>to_lvl_co</th>\n",
       "      <th>trafdir</th>\n",
       "      <th>geometry</th>\n",
       "    </tr>\n",
       "  </thead>\n",
       "  <tbody>\n",
       "    <tr>\n",
       "      <th>0</th>\n",
       "      <td>None</td>\n",
       "      <td>None</td>\n",
       "      <td>2</td>\n",
       "      <td>2014-08-19</td>\n",
       "      <td>00:00:00.000</td>\n",
       "      <td>13.0</td>\n",
       "      <td>MITSUBISHI WILD WETLAND TRL</td>\n",
       "      <td>0.000000e+00</td>\n",
       "      <td>None</td>\n",
       "      <td>None</td>\n",
       "      <td>...</td>\n",
       "      <td>6.0</td>\n",
       "      <td>1026.077523</td>\n",
       "      <td>None</td>\n",
       "      <td>MITSUBISHI WILD WETLAND TRL</td>\n",
       "      <td>MITSUBISHI WILD WETLAND</td>\n",
       "      <td>0.0</td>\n",
       "      <td>2</td>\n",
       "      <td>13.0</td>\n",
       "      <td>NV</td>\n",
       "      <td>LINESTRING (-73.87861544017795 40.861915301539...</td>\n",
       "    </tr>\n",
       "    <tr>\n",
       "      <th>1</th>\n",
       "      <td>None</td>\n",
       "      <td>None</td>\n",
       "      <td>4</td>\n",
       "      <td>2007-11-29</td>\n",
       "      <td>00:00:00.000</td>\n",
       "      <td>13.0</td>\n",
       "      <td>28 AVE</td>\n",
       "      <td>1.122612e+08</td>\n",
       "      <td>215-027</td>\n",
       "      <td>215-001</td>\n",
       "      <td>...</td>\n",
       "      <td>1.0</td>\n",
       "      <td>258.859740</td>\n",
       "      <td>S</td>\n",
       "      <td>28 AV</td>\n",
       "      <td>28</td>\n",
       "      <td>35.0</td>\n",
       "      <td>2</td>\n",
       "      <td>13.0</td>\n",
       "      <td>TW</td>\n",
       "      <td>LINESTRING (-73.7729030190404 40.7778042809822...</td>\n",
       "    </tr>\n",
       "    <tr>\n",
       "      <th>2</th>\n",
       "      <td>2</td>\n",
       "      <td>TW</td>\n",
       "      <td>3</td>\n",
       "      <td>2007-11-29</td>\n",
       "      <td>00:00:00.000</td>\n",
       "      <td>13.0</td>\n",
       "      <td>SCHERMERHORN ST</td>\n",
       "      <td>1.922604e+09</td>\n",
       "      <td>399</td>\n",
       "      <td>317</td>\n",
       "      <td>...</td>\n",
       "      <td>1.0</td>\n",
       "      <td>609.424375</td>\n",
       "      <td>C</td>\n",
       "      <td>SCHERMERHORN ST</td>\n",
       "      <td>SCHERMERHORN</td>\n",
       "      <td>50.0</td>\n",
       "      <td>2</td>\n",
       "      <td>13.0</td>\n",
       "      <td>TW</td>\n",
       "      <td>LINESTRING (-73.98181677514282 40.687329801759...</td>\n",
       "    </tr>\n",
       "    <tr>\n",
       "      <th>3</th>\n",
       "      <td>None</td>\n",
       "      <td>None</td>\n",
       "      <td>4</td>\n",
       "      <td>2007-11-29</td>\n",
       "      <td>00:00:00.000</td>\n",
       "      <td>13.0</td>\n",
       "      <td>QUEENS BLVD</td>\n",
       "      <td>9.226172e+07</td>\n",
       "      <td>120-011</td>\n",
       "      <td>120-011</td>\n",
       "      <td>...</td>\n",
       "      <td>1.0</td>\n",
       "      <td>47.399228</td>\n",
       "      <td>C</td>\n",
       "      <td>QUEENS BLVD</td>\n",
       "      <td>QUEENS</td>\n",
       "      <td>40.0</td>\n",
       "      <td>2</td>\n",
       "      <td>13.0</td>\n",
       "      <td>TF</td>\n",
       "      <td>LINESTRING (-73.8300230194527 40.7140059978106...</td>\n",
       "    </tr>\n",
       "    <tr>\n",
       "      <th>4</th>\n",
       "      <td>None</td>\n",
       "      <td>None</td>\n",
       "      <td>2</td>\n",
       "      <td>2007-11-29</td>\n",
       "      <td>00:00:00.000</td>\n",
       "      <td>13.0</td>\n",
       "      <td>ARLINGTON AVE</td>\n",
       "      <td>1.522605e+09</td>\n",
       "      <td>5699</td>\n",
       "      <td>5631</td>\n",
       "      <td>...</td>\n",
       "      <td>1.0</td>\n",
       "      <td>454.932922</td>\n",
       "      <td>H</td>\n",
       "      <td>ARLINGTON AV</td>\n",
       "      <td>ARLINGTON</td>\n",
       "      <td>42.0</td>\n",
       "      <td>2</td>\n",
       "      <td>13.0</td>\n",
       "      <td>TW</td>\n",
       "      <td>LINESTRING (-73.90711253281893 40.905186250792...</td>\n",
       "    </tr>\n",
       "  </tbody>\n",
       "</table>\n",
       "<p>5 rows × 34 columns</p>\n",
       "</div>"
      ],
      "text/plain": [
       "  bike_lane bike_trafd borocode  date_creat    time_creat  frm_lvl_co  \\\n",
       "0      None       None        2  2014-08-19  00:00:00.000        13.0   \n",
       "1      None       None        4  2007-11-29  00:00:00.000        13.0   \n",
       "2         2         TW        3  2007-11-29  00:00:00.000        13.0   \n",
       "3      None       None        4  2007-11-29  00:00:00.000        13.0   \n",
       "4      None       None        2  2007-11-29  00:00:00.000        13.0   \n",
       "\n",
       "                    full_stree    l_blkfc_id l_high_hn l_low_hn  \\\n",
       "0  MITSUBISHI WILD WETLAND TRL  0.000000e+00      None     None   \n",
       "1                       28 AVE  1.122612e+08   215-027  215-001   \n",
       "2              SCHERMERHORN ST  1.922604e+09       399      317   \n",
       "3                  QUEENS BLVD  9.226172e+07   120-011  120-011   \n",
       "4                ARLINGTON AVE  1.522605e+09      5699     5631   \n",
       "\n",
       "                         ...                         rw_type   shape_leng  \\\n",
       "0                        ...                             6.0  1026.077523   \n",
       "1                        ...                             1.0   258.859740   \n",
       "2                        ...                             1.0   609.424375   \n",
       "3                        ...                             1.0    47.399228   \n",
       "4                        ...                             1.0   454.932922   \n",
       "\n",
       "  snow_pri                     st_label                  st_name st_width  \\\n",
       "0     None  MITSUBISHI WILD WETLAND TRL  MITSUBISHI WILD WETLAND      0.0   \n",
       "1        S                        28 AV                       28     35.0   \n",
       "2        C              SCHERMERHORN ST             SCHERMERHORN     50.0   \n",
       "3        C                  QUEENS BLVD                   QUEENS     40.0   \n",
       "4        H                 ARLINGTON AV                ARLINGTON     42.0   \n",
       "\n",
       "  status to_lvl_co trafdir                                           geometry  \n",
       "0      2      13.0      NV  LINESTRING (-73.87861544017795 40.861915301539...  \n",
       "1      2      13.0      TW  LINESTRING (-73.7729030190404 40.7778042809822...  \n",
       "2      2      13.0      TW  LINESTRING (-73.98181677514282 40.687329801759...  \n",
       "3      2      13.0      TF  LINESTRING (-73.8300230194527 40.7140059978106...  \n",
       "4      2      13.0      TW  LINESTRING (-73.90711253281893 40.905186250792...  \n",
       "\n",
       "[5 rows x 34 columns]"
      ]
     },
     "execution_count": 65,
     "metadata": {},
     "output_type": "execute_result"
    }
   ],
   "source": [
    "streets_shp.head()"
   ]
  },
  {
   "cell_type": "code",
   "execution_count": 47,
   "metadata": {},
   "outputs": [
    {
     "data": {
      "text/plain": [
       "<matplotlib.axes._subplots.AxesSubplot at 0x7f527ace9e10>"
      ]
     },
     "execution_count": 47,
     "metadata": {},
     "output_type": "execute_result"
    },
    {
     "data": {
      "image/png": "[encoded data removed]",
      "text/plain": [
       "<Figure size 432x288 with 1 Axes>"
      ]
     },
     "metadata": {
      "needs_background": "light"
     },
     "output_type": "display_data"
    }
   ],
   "source": [
    "streets_shp.plot()"
   ]
  },
  {
   "cell_type": "code",
   "execution_count": 58,
   "metadata": {},
   "outputs": [],
   "source": [
    "neighbourhood_shp = neighbourhood_shp.to_crs(epsg = 2263)"
   ]
  },
  {
   "cell_type": "code",
   "execution_count": 93,
   "metadata": {},
   "outputs": [
    {
     "data": {
      "text/plain": [
       "{'proj': 'lcc',\n",
       " 'lat_1': 40.66666666666666,\n",
       " 'lat_2': 41.03333333333333,\n",
       " 'lat_0': 40.16666666666666,\n",
       " 'lon_0': -74,\n",
       " 'x_0': 300000,\n",
       " 'y_0': 0,\n",
       " 'datum': 'NAD83',\n",
       " 'units': 'us-ft',\n",
       " 'no_defs': True}"
      ]
     },
     "execution_count": 93,
     "metadata": {},
     "output_type": "execute_result"
    }
   ],
   "source": [
    "nh_shp.crs"
   ]
  },
  {
   "cell_type": "code",
   "execution_count": 92,
   "metadata": {},
   "outputs": [
    {
     "data": {
      "text/plain": [
       "<matplotlib.axes._subplots.AxesSubplot at 0x7f5271b7c7f0>"
      ]
     },
     "execution_count": 92,
     "metadata": {},
     "output_type": "execute_result"
    },
    {
     "data": {
      "image/png": "[encoded data removed]",
      "text/plain": [
       "<Figure size 432x288 with 1 Axes>"
      ]
     },
     "metadata": {
      "needs_background": "light"
     },
     "output_type": "display_data"
    }
   ],
   "source": [
    "neighbourhood_shp = nh_shp[nh_shp.NTAName == neighborhood]\n",
    "neighbourhood_shp.shape\n",
    "neighbourhood_shp = neighbourhood_shp.to_crs({'init': 'epsg:2263'})\n",
    "neighbourhood_shp.plot()"
   ]
  },
  {
   "cell_type": "code",
   "execution_count": 81,
   "metadata": {},
   "outputs": [
    {
     "data": {
      "text/html": [
       "<div>\n",
       "<style scoped>\n",
       "    .dataframe tbody tr th:only-of-type {\n",
       "        vertical-align: middle;\n",
       "    }\n",
       "\n",
       "    .dataframe tbody tr th {\n",
       "        vertical-align: top;\n",
       "    }\n",
       "\n",
       "    .dataframe thead th {\n",
       "        text-align: right;\n",
       "    }\n",
       "</style>\n",
       "<table border=\"1\" class=\"dataframe\">\n",
       "  <thead>\n",
       "    <tr style=\"text-align: right;\">\n",
       "      <th></th>\n",
       "      <th>BoroCode</th>\n",
       "      <th>BoroName</th>\n",
       "      <th>CountyFIPS</th>\n",
       "      <th>NTACode</th>\n",
       "      <th>NTAName</th>\n",
       "      <th>Shape_Leng</th>\n",
       "      <th>Shape_Area</th>\n",
       "      <th>geometry</th>\n",
       "    </tr>\n",
       "  </thead>\n",
       "  <tbody>\n",
       "    <tr>\n",
       "      <th>4</th>\n",
       "      <td>1</td>\n",
       "      <td>Manhattan</td>\n",
       "      <td>061</td>\n",
       "      <td>MN06</td>\n",
       "      <td>Manhattanville</td>\n",
       "      <td>17040.685413</td>\n",
       "      <td>1.064708e+07</td>\n",
       "      <td>POLYGON ((999174.2606201175 238490.1047973094,...</td>\n",
       "    </tr>\n",
       "  </tbody>\n",
       "</table>\n",
       "</div>"
      ],
      "text/plain": [
       "   BoroCode   BoroName CountyFIPS NTACode         NTAName    Shape_Leng  \\\n",
       "4         1  Manhattan        061    MN06  Manhattanville  17040.685413   \n",
       "\n",
       "     Shape_Area                                           geometry  \n",
       "4  1.064708e+07  POLYGON ((999174.2606201175 238490.1047973094,...  "
      ]
     },
     "execution_count": 81,
     "metadata": {},
     "output_type": "execute_result"
    }
   ],
   "source": [
    "tmp = gpd.GeoDataFrame(neighbourhood_shp, geometry='geometry', crs=streets_shp.crs)\n",
    "tmp.head()"
   ]
  },
  {
   "cell_type": "code",
   "execution_count": 76,
   "metadata": {},
   "outputs": [
    {
     "data": {
      "text/plain": [
       "<matplotlib.axes._subplots.AxesSubplot at 0x7f5276cbfda0>"
      ]
     },
     "execution_count": 76,
     "metadata": {},
     "output_type": "execute_result"
    },
    {
     "data": {
      "image/png": "[encoded data removed]",
      "text/plain": [
       "<Figure size 432x288 with 1 Axes>"
      ]
     },
     "metadata": {
      "needs_background": "light"
     },
     "output_type": "display_data"
    }
   ],
   "source": [
    "streets_shp.plot()"
   ]
  },
  {
   "cell_type": "code",
   "execution_count": 77,
   "metadata": {},
   "outputs": [
    {
     "data": {
      "text/plain": [
       "{'init': 'epsg:2263', 'no_defs': True}"
      ]
     },
     "execution_count": 77,
     "metadata": {},
     "output_type": "execute_result"
    }
   ],
   "source": [
    "streets_shp.crs"
   ]
  },
  {
   "cell_type": "code",
   "execution_count": 61,
   "metadata": {},
   "outputs": [
    {
     "data": {
      "text/plain": [
       "{'init': 'epsg:2263', 'no_defs': True}"
      ]
     },
     "execution_count": 61,
     "metadata": {},
     "output_type": "execute_result"
    }
   ],
   "source": [
    "streets_shp.crs = from_epsg(2263)\n",
    "streets_shp.crs"
   ]
  },
  {
   "cell_type": "code",
   "execution_count": 66,
   "metadata": {},
   "outputs": [],
   "source": [
    "gpd.sjoin?"
   ]
  },
  {
   "cell_type": "code",
   "execution_count": 71,
   "metadata": {},
   "outputs": [],
   "source": [
    "neigh_street_shp = gpd.sjoin(neighbourhood_shp, streets_shp, how='inner', op='contains')"
   ]
  },
  {
   "cell_type": "code",
   "execution_count": 72,
   "metadata": {},
   "outputs": [
    {
     "data": {
      "text/plain": [
       "(0, 42)"
      ]
     },
     "execution_count": 72,
     "metadata": {},
     "output_type": "execute_result"
    }
   ],
   "source": [
    "neigh_street_shp.shape"
   ]
  },
  {
   "cell_type": "code",
   "execution_count": 37,
   "metadata": {},
   "outputs": [
    {
     "data": {
      "text/plain": [
       "Index(['BoroCode', 'BoroName', 'CountyFIPS', 'NTACode', 'NTAName',\n",
       "       'Shape_Leng', 'Shape_Area', 'geometry', 'index_right', 'bike_lane',\n",
       "       'bike_trafd', 'borocode', 'date_creat', 'time_creat', 'frm_lvl_co',\n",
       "       'full_stree', 'l_blkfc_id', 'l_high_hn', 'l_low_hn', 'l_zip',\n",
       "       'date_modif', 'time_modif', 'physicalid', 'post_direc', 'post_modif',\n",
       "       'post_type', 'pre_direct', 'pre_modifi', 'pre_type', 'r_blkfc_id',\n",
       "       'r_high_hn', 'r_low_hn', 'r_zip', 'rw_type', 'shape_leng', 'snow_pri',\n",
       "       'st_label', 'st_name', 'st_width', 'status', 'to_lvl_co', 'trafdir'],\n",
       "      dtype='object')"
      ]
     },
     "execution_count": 37,
     "metadata": {},
     "output_type": "execute_result"
    }
   ],
   "source": [
    "neigh_street_shp.columns"
   ]
  },
  {
   "cell_type": "code",
   "execution_count": 38,
   "metadata": {},
   "outputs": [
    {
     "data": {
      "text/html": [
       "<div>\n",
       "<style scoped>\n",
       "    .dataframe tbody tr th:only-of-type {\n",
       "        vertical-align: middle;\n",
       "    }\n",
       "\n",
       "    .dataframe tbody tr th {\n",
       "        vertical-align: top;\n",
       "    }\n",
       "\n",
       "    .dataframe thead th {\n",
       "        text-align: right;\n",
       "    }\n",
       "</style>\n",
       "<table border=\"1\" class=\"dataframe\">\n",
       "  <thead>\n",
       "    <tr style=\"text-align: right;\">\n",
       "      <th></th>\n",
       "      <th>BoroCode</th>\n",
       "      <th>BoroName</th>\n",
       "      <th>CountyFIPS</th>\n",
       "      <th>NTACode</th>\n",
       "      <th>NTAName</th>\n",
       "      <th>Shape_Leng</th>\n",
       "      <th>Shape_Area</th>\n",
       "      <th>geometry</th>\n",
       "      <th>index_right</th>\n",
       "      <th>bike_lane</th>\n",
       "      <th>...</th>\n",
       "      <th>r_zip</th>\n",
       "      <th>rw_type</th>\n",
       "      <th>shape_leng</th>\n",
       "      <th>snow_pri</th>\n",
       "      <th>st_label</th>\n",
       "      <th>st_name</th>\n",
       "      <th>st_width</th>\n",
       "      <th>status</th>\n",
       "      <th>to_lvl_co</th>\n",
       "      <th>trafdir</th>\n",
       "    </tr>\n",
       "  </thead>\n",
       "  <tbody>\n",
       "  </tbody>\n",
       "</table>\n",
       "<p>0 rows × 42 columns</p>\n",
       "</div>"
      ],
      "text/plain": [
       "Empty GeoDataFrame\n",
       "Columns: [BoroCode, BoroName, CountyFIPS, NTACode, NTAName, Shape_Leng, Shape_Area, geometry, index_right, bike_lane, bike_trafd, borocode, date_creat, time_creat, frm_lvl_co, full_stree, l_blkfc_id, l_high_hn, l_low_hn, l_zip, date_modif, time_modif, physicalid, post_direc, post_modif, post_type, pre_direct, pre_modifi, pre_type, r_blkfc_id, r_high_hn, r_low_hn, r_zip, rw_type, shape_leng, snow_pri, st_label, st_name, st_width, status, to_lvl_co, trafdir]\n",
       "Index: []\n",
       "\n",
       "[0 rows x 42 columns]"
      ]
     },
     "execution_count": 38,
     "metadata": {},
     "output_type": "execute_result"
    }
   ],
   "source": [
    "neigh_street_shp.head()"
   ]
  },
  {
   "cell_type": "code",
   "execution_count": 94,
   "metadata": {},
   "outputs": [],
   "source": [
    "nh2_shp = gpd.read_file(\"NeighborhoodNames/geo_export_59621e69-caf1-4d5e-a988-0ef37a810397.shp\")"
   ]
  },
  {
   "cell_type": "code",
   "execution_count": 95,
   "metadata": {},
   "outputs": [
    {
     "data": {
      "text/plain": [
       "{}"
      ]
     },
     "execution_count": 95,
     "metadata": {},
     "output_type": "execute_result"
    }
   ],
   "source": [
    "nh2_shp.crs"
   ]
  },
  {
   "cell_type": "code",
   "execution_count": 96,
   "metadata": {},
   "outputs": [
    {
     "data": {
      "text/plain": [
       "<matplotlib.axes._subplots.AxesSubplot at 0x7f5271b2d9b0>"
      ]
     },
     "execution_count": 96,
     "metadata": {},
     "output_type": "execute_result"
    },
    {
     "data": {
      "image/png": "[encoded data removed]",
      "text/plain": [
       "<Figure size 432x288 with 1 Axes>"
      ]
     },
     "metadata": {
      "needs_background": "light"
     },
     "output_type": "display_data"
    }
   ],
   "source": [
    "nh2_shp.plot()"
   ]
  },
  {
   "cell_type": "code",
   "execution_count": 97,
   "metadata": {},
   "outputs": [
    {
     "data": {
      "text/html": [
       "<div>\n",
       "<style scoped>\n",
       "    .dataframe tbody tr th:only-of-type {\n",
       "        vertical-align: middle;\n",
       "    }\n",
       "\n",
       "    .dataframe tbody tr th {\n",
       "        vertical-align: top;\n",
       "    }\n",
       "\n",
       "    .dataframe thead th {\n",
       "        text-align: right;\n",
       "    }\n",
       "</style>\n",
       "<table border=\"1\" class=\"dataframe\">\n",
       "  <thead>\n",
       "    <tr style=\"text-align: right;\">\n",
       "      <th></th>\n",
       "      <th>annoangle</th>\n",
       "      <th>annoline1</th>\n",
       "      <th>annoline2</th>\n",
       "      <th>annoline3</th>\n",
       "      <th>borough</th>\n",
       "      <th>name</th>\n",
       "      <th>objectid</th>\n",
       "      <th>stacked</th>\n",
       "      <th>geometry</th>\n",
       "    </tr>\n",
       "  </thead>\n",
       "  <tbody>\n",
       "    <tr>\n",
       "      <th>0</th>\n",
       "      <td>0.0</td>\n",
       "      <td>Wakefield</td>\n",
       "      <td>None</td>\n",
       "      <td>None</td>\n",
       "      <td>Bronx</td>\n",
       "      <td>Wakefield</td>\n",
       "      <td>1.0</td>\n",
       "      <td>1.0</td>\n",
       "      <td>POINT (-73.84720052054909 40.89470517661004)</td>\n",
       "    </tr>\n",
       "    <tr>\n",
       "      <th>1</th>\n",
       "      <td>0.0</td>\n",
       "      <td>Co-op</td>\n",
       "      <td>City</td>\n",
       "      <td>None</td>\n",
       "      <td>Bronx</td>\n",
       "      <td>Co-op City</td>\n",
       "      <td>2.0</td>\n",
       "      <td>2.0</td>\n",
       "      <td>POINT (-73.82993910812405 40.87429419303015)</td>\n",
       "    </tr>\n",
       "    <tr>\n",
       "      <th>2</th>\n",
       "      <td>0.0</td>\n",
       "      <td>Eastchester</td>\n",
       "      <td>None</td>\n",
       "      <td>None</td>\n",
       "      <td>Bronx</td>\n",
       "      <td>Eastchester</td>\n",
       "      <td>3.0</td>\n",
       "      <td>1.0</td>\n",
       "      <td>POINT (-73.82780644716419 40.88755567735082)</td>\n",
       "    </tr>\n",
       "    <tr>\n",
       "      <th>3</th>\n",
       "      <td>0.0</td>\n",
       "      <td>Fieldston</td>\n",
       "      <td>None</td>\n",
       "      <td>None</td>\n",
       "      <td>Bronx</td>\n",
       "      <td>Fieldston</td>\n",
       "      <td>4.0</td>\n",
       "      <td>1.0</td>\n",
       "      <td>POINT (-73.90564259591689 40.89543742690388)</td>\n",
       "    </tr>\n",
       "    <tr>\n",
       "      <th>4</th>\n",
       "      <td>0.0</td>\n",
       "      <td>Riverdale</td>\n",
       "      <td>None</td>\n",
       "      <td>None</td>\n",
       "      <td>Bronx</td>\n",
       "      <td>Riverdale</td>\n",
       "      <td>5.0</td>\n",
       "      <td>1.0</td>\n",
       "      <td>POINT (-73.91258546108577 40.89083449389134)</td>\n",
       "    </tr>\n",
       "  </tbody>\n",
       "</table>\n",
       "</div>"
      ],
      "text/plain": [
       "   annoangle    annoline1 annoline2 annoline3 borough         name  objectid  \\\n",
       "0        0.0    Wakefield      None      None   Bronx    Wakefield       1.0   \n",
       "1        0.0        Co-op      City      None   Bronx   Co-op City       2.0   \n",
       "2        0.0  Eastchester      None      None   Bronx  Eastchester       3.0   \n",
       "3        0.0    Fieldston      None      None   Bronx    Fieldston       4.0   \n",
       "4        0.0    Riverdale      None      None   Bronx    Riverdale       5.0   \n",
       "\n",
       "   stacked                                      geometry  \n",
       "0      1.0  POINT (-73.84720052054909 40.89470517661004)  \n",
       "1      2.0  POINT (-73.82993910812405 40.87429419303015)  \n",
       "2      1.0  POINT (-73.82780644716419 40.88755567735082)  \n",
       "3      1.0  POINT (-73.90564259591689 40.89543742690388)  \n",
       "4      1.0  POINT (-73.91258546108577 40.89083449389134)  "
      ]
     },
     "execution_count": 97,
     "metadata": {},
     "output_type": "execute_result"
    }
   ],
   "source": [
    "nh2_shp.head()"
   ]
  },
  {
   "cell_type": "code",
   "execution_count": 100,
   "metadata": {},
   "outputs": [],
   "source": [
    "nh3_shp = gpd.read_file(\"NeighborhoodTabulationAreas/geo_export_73308203-4c58-45ef-8475-d60695a6afb4.shp\")"
   ]
  },
  {
   "cell_type": "code",
   "execution_count": 101,
   "metadata": {},
   "outputs": [
    {
     "data": {
      "text/html": [
       "<div>\n",
       "<style scoped>\n",
       "    .dataframe tbody tr th:only-of-type {\n",
       "        vertical-align: middle;\n",
       "    }\n",
       "\n",
       "    .dataframe tbody tr th {\n",
       "        vertical-align: top;\n",
       "    }\n",
       "\n",
       "    .dataframe thead th {\n",
       "        text-align: right;\n",
       "    }\n",
       "</style>\n",
       "<table border=\"1\" class=\"dataframe\">\n",
       "  <thead>\n",
       "    <tr style=\"text-align: right;\">\n",
       "      <th></th>\n",
       "      <th>boro_code</th>\n",
       "      <th>boro_name</th>\n",
       "      <th>county_fip</th>\n",
       "      <th>ntacode</th>\n",
       "      <th>ntaname</th>\n",
       "      <th>shape_area</th>\n",
       "      <th>shape_leng</th>\n",
       "      <th>geometry</th>\n",
       "    </tr>\n",
       "  </thead>\n",
       "  <tbody>\n",
       "    <tr>\n",
       "      <th>0</th>\n",
       "      <td>3.0</td>\n",
       "      <td>Brooklyn</td>\n",
       "      <td>047</td>\n",
       "      <td>BK88</td>\n",
       "      <td>Borough Park</td>\n",
       "      <td>5.400502e+07</td>\n",
       "      <td>39247.228028</td>\n",
       "      <td>POLYGON ((-73.97604935657381 40.63127590564677...</td>\n",
       "    </tr>\n",
       "    <tr>\n",
       "      <th>1</th>\n",
       "      <td>4.0</td>\n",
       "      <td>Queens</td>\n",
       "      <td>081</td>\n",
       "      <td>QN51</td>\n",
       "      <td>Murray Hill</td>\n",
       "      <td>5.248828e+07</td>\n",
       "      <td>33266.904861</td>\n",
       "      <td>POLYGON ((-73.80379022888246 40.77561011179248...</td>\n",
       "    </tr>\n",
       "    <tr>\n",
       "      <th>2</th>\n",
       "      <td>4.0</td>\n",
       "      <td>Queens</td>\n",
       "      <td>081</td>\n",
       "      <td>QN27</td>\n",
       "      <td>East Elmhurst</td>\n",
       "      <td>1.972685e+07</td>\n",
       "      <td>19816.712318</td>\n",
       "      <td>POLYGON ((-73.86109724335759 40.7636644770869,...</td>\n",
       "    </tr>\n",
       "    <tr>\n",
       "      <th>3</th>\n",
       "      <td>4.0</td>\n",
       "      <td>Queens</td>\n",
       "      <td>081</td>\n",
       "      <td>QN07</td>\n",
       "      <td>Hollis</td>\n",
       "      <td>2.288777e+07</td>\n",
       "      <td>20976.335574</td>\n",
       "      <td>POLYGON ((-73.75725671509139 40.71813860166257...</td>\n",
       "    </tr>\n",
       "    <tr>\n",
       "      <th>4</th>\n",
       "      <td>1.0</td>\n",
       "      <td>Manhattan</td>\n",
       "      <td>061</td>\n",
       "      <td>MN06</td>\n",
       "      <td>Manhattanville</td>\n",
       "      <td>1.064708e+07</td>\n",
       "      <td>17040.685413</td>\n",
       "      <td>POLYGON ((-73.94607828674226 40.82126321606191...</td>\n",
       "    </tr>\n",
       "  </tbody>\n",
       "</table>\n",
       "</div>"
      ],
      "text/plain": [
       "   boro_code  boro_name county_fip ntacode         ntaname    shape_area  \\\n",
       "0        3.0   Brooklyn        047    BK88    Borough Park  5.400502e+07   \n",
       "1        4.0     Queens        081    QN51     Murray Hill  5.248828e+07   \n",
       "2        4.0     Queens        081    QN27   East Elmhurst  1.972685e+07   \n",
       "3        4.0     Queens        081    QN07          Hollis  2.288777e+07   \n",
       "4        1.0  Manhattan        061    MN06  Manhattanville  1.064708e+07   \n",
       "\n",
       "     shape_leng                                           geometry  \n",
       "0  39247.228028  POLYGON ((-73.97604935657381 40.63127590564677...  \n",
       "1  33266.904861  POLYGON ((-73.80379022888246 40.77561011179248...  \n",
       "2  19816.712318  POLYGON ((-73.86109724335759 40.7636644770869,...  \n",
       "3  20976.335574  POLYGON ((-73.75725671509139 40.71813860166257...  \n",
       "4  17040.685413  POLYGON ((-73.94607828674226 40.82126321606191...  "
      ]
     },
     "execution_count": 101,
     "metadata": {},
     "output_type": "execute_result"
    }
   ],
   "source": [
    "nh3_shp.head()"
   ]
  },
  {
   "cell_type": "code",
   "execution_count": 102,
   "metadata": {},
   "outputs": [
    {
     "data": {
      "text/plain": [
       "{}"
      ]
     },
     "execution_count": 102,
     "metadata": {},
     "output_type": "execute_result"
    }
   ],
   "source": [
    "nh3_shp.crs"
   ]
  },
  {
   "cell_type": "code",
   "execution_count": 103,
   "metadata": {},
   "outputs": [
    {
     "data": {
      "text/plain": [
       "<matplotlib.axes._subplots.AxesSubplot at 0x7f5271a91860>"
      ]
     },
     "execution_count": 103,
     "metadata": {},
     "output_type": "execute_result"
    },
    {
     "data": {
      "image/png": "[encoded data removed]",
      "text/plain": [
       "<Figure size 432x288 with 1 Axes>"
      ]
     },
     "metadata": {
      "needs_background": "light"
     },
     "output_type": "display_data"
    }
   ],
   "source": [
    "nh3_shp.plot()"
   ]
  },
  {
   "cell_type": "code",
   "execution_count": 107,
   "metadata": {},
   "outputs": [
    {
     "data": {
      "text/plain": [
       "['Bensonhurst East', 'Bensonhurst West']"
      ]
     },
     "execution_count": 107,
     "metadata": {},
     "output_type": "execute_result"
    }
   ],
   "source": [
    "[a for a in nh3_shp.ntaname if 'Ben' in a]"
   ]
  },
  {
   "cell_type": "code",
   "execution_count": 108,
   "metadata": {},
   "outputs": [
    {
     "data": {
      "text/plain": [
       "{'init': 'epsg:2263', 'no_defs': True}"
      ]
     },
     "execution_count": 108,
     "metadata": {},
     "output_type": "execute_result"
    }
   ],
   "source": [
    "nh3_shp.crs = from_epsg(2263)\n",
    "nh3_shp.crs"
   ]
  },
  {
   "cell_type": "code",
   "execution_count": 111,
   "metadata": {},
   "outputs": [
    {
     "data": {
      "text/plain": [
       "(1, 8)"
      ]
     },
     "execution_count": 111,
     "metadata": {},
     "output_type": "execute_result"
    }
   ],
   "source": [
    "neighbourhood_shp = nh3_shp[nh3_shp.ntaname == neighborhood]\n",
    "neighbourhood_shp.shape"
   ]
  },
  {
   "cell_type": "code",
   "execution_count": 112,
   "metadata": {},
   "outputs": [],
   "source": [
    "neigh_street_shp = gpd.sjoin(neighbourhood_shp, streets_shp, how='inner', op='intersects')"
   ]
  },
  {
   "cell_type": "code",
   "execution_count": 113,
   "metadata": {},
   "outputs": [
    {
     "data": {
      "text/plain": [
       "(251, 42)"
      ]
     },
     "execution_count": 113,
     "metadata": {},
     "output_type": "execute_result"
    }
   ],
   "source": [
    "neigh_street_shp.shape"
   ]
  },
  {
   "cell_type": "code",
   "execution_count": 114,
   "metadata": {},
   "outputs": [
    {
     "data": {
      "text/plain": [
       "(119309, 34)"
      ]
     },
     "execution_count": 114,
     "metadata": {},
     "output_type": "execute_result"
    }
   ],
   "source": [
    "streets_shp.shape"
   ]
  },
  {
   "cell_type": "code",
   "execution_count": 115,
   "metadata": {},
   "outputs": [
    {
     "data": {
      "text/plain": [
       "7174"
      ]
     },
     "execution_count": 115,
     "metadata": {},
     "output_type": "execute_result"
    }
   ],
   "source": [
    "len(set(streets_shp.st_name))"
   ]
  },
  {
   "cell_type": "code",
   "execution_count": null,
   "metadata": {},
   "outputs": [],
   "source": [
    " "
   ]
  }
 ],
 "metadata": {
  "kernelspec": {
   "display_name": "Python 3",
   "language": "python",
   "name": "python3"
  },
  "language_info": {
   "codemirror_mode": {
    "name": "ipython",
    "version": 3
   },
   "file_extension": ".py",
   "mimetype": "text/x-python",
   "name": "python",
   "nbconvert_exporter": "python",
   "pygments_lexer": "ipython3",
   "version": "3.6.7"
  }
 },
 "nbformat": 4,
 "nbformat_minor": 2
}
